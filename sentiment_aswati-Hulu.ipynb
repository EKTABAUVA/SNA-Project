{
 "cells": [
  {
   "cell_type": "code",
   "execution_count": 2,
   "metadata": {},
   "outputs": [],
   "source": [
    "import pandas as pd\n",
    "import numpy as np"
   ]
  },
  {
   "cell_type": "code",
   "execution_count": 4,
   "metadata": {},
   "outputs": [],
   "source": [
    "df = pd.read_excel(\"C:\\\\Users\\\\Aswathi\\\\Desktop\\\\hulu_location.xlsx\",\n",
    "                   sheet_name = 'Edges',skiprows=0,header=1)"
   ]
  },
  {
   "cell_type": "code",
   "execution_count": 5,
   "metadata": {},
   "outputs": [
    {
     "name": "stdout",
     "output_type": "stream",
     "text": [
      "<class 'pandas.core.frame.DataFrame'>\n",
      "RangeIndex: 8884 entries, 0 to 8883\n",
      "Data columns (total 52 columns):\n",
      "Vertex 1                          8884 non-null object\n",
      "Vertex 2                          8884 non-null object\n",
      "Color                             0 non-null float64\n",
      "Width                             0 non-null float64\n",
      "Style                             0 non-null float64\n",
      "Opacity                           0 non-null float64\n",
      "Visibility                        0 non-null float64\n",
      "Label                             0 non-null float64\n",
      "Label Text Color                  0 non-null float64\n",
      "Label Font Size                   0 non-null float64\n",
      "Reciprocated?                     0 non-null float64\n",
      "ID                                0 non-null float64\n",
      "Dynamic Filter                    0 non-null float64\n",
      "Add Your Own Columns Here         0 non-null float64\n",
      "Relationship                      8884 non-null object\n",
      "Relationship Date (UTC)           8884 non-null datetime64[ns]\n",
      "Tweet                             8884 non-null object\n",
      "URLs in Tweet                     1443 non-null object\n",
      "Domains in Tweet                  1443 non-null object\n",
      "Hashtags in Tweet                 2950 non-null object\n",
      "Media in Tweet                    1832 non-null object\n",
      "Tweet Image File                  8884 non-null object\n",
      "Tweet Date (UTC)                  8884 non-null datetime64[ns]\n",
      "Twitter Page for Tweet            8884 non-null object\n",
      "Latitude                          4 non-null float64\n",
      "Longitude                         4 non-null float64\n",
      "Imported ID                       8884 non-null int64\n",
      "In-Reply-To Tweet ID              3221 non-null float64\n",
      "Favorited                         8884 non-null bool\n",
      "Favorite Count                    8884 non-null int64\n",
      "In-Reply-To User ID               3434 non-null float64\n",
      "Is Quote Status                   8884 non-null bool\n",
      "Language                          8884 non-null object\n",
      "Possibly Sensitive                0 non-null float64\n",
      "Quoted Status ID                  276 non-null float64\n",
      "Retweeted                         8884 non-null bool\n",
      "Retweet Count                     8884 non-null int64\n",
      "Retweet ID                        3234 non-null float64\n",
      "Source                            8884 non-null object\n",
      "Truncated                         8884 non-null bool\n",
      "Unified Twitter ID                8884 non-null int64\n",
      "Imported Tweet Type               8884 non-null object\n",
      "Added By Extended Analysis        8884 non-null int64\n",
      "Corrected By Extended Analysis    8884 non-null int64\n",
      "Place Bounding Box                310 non-null object\n",
      "Place Country                     310 non-null object\n",
      "Place Country Code                310 non-null object\n",
      "Place Full Name                   310 non-null object\n",
      "Place ID                          310 non-null object\n",
      "Place Name                        310 non-null object\n",
      "Place Type                        310 non-null object\n",
      "Place URL                         310 non-null object\n",
      "dtypes: bool(4), datetime64[ns](2), float64(19), int64(6), object(21)\n",
      "memory usage: 3.3+ MB\n"
     ]
    }
   ],
   "source": [
    "df.info()"
   ]
  },
  {
   "cell_type": "code",
   "execution_count": 6,
   "metadata": {},
   "outputs": [],
   "source": [
    "df = df[['Place Country Code','Place Full Name','Tweet']]"
   ]
  },
  {
   "cell_type": "code",
   "execution_count": 7,
   "metadata": {},
   "outputs": [
    {
     "data": {
      "text/html": [
       "<div>\n",
       "<style scoped>\n",
       "    .dataframe tbody tr th:only-of-type {\n",
       "        vertical-align: middle;\n",
       "    }\n",
       "\n",
       "    .dataframe tbody tr th {\n",
       "        vertical-align: top;\n",
       "    }\n",
       "\n",
       "    .dataframe thead th {\n",
       "        text-align: right;\n",
       "    }\n",
       "</style>\n",
       "<table border=\"1\" class=\"dataframe\">\n",
       "  <thead>\n",
       "    <tr style=\"text-align: right;\">\n",
       "      <th></th>\n",
       "      <th>Place Country Code</th>\n",
       "      <th>Place Full Name</th>\n",
       "      <th>Tweet</th>\n",
       "    </tr>\n",
       "  </thead>\n",
       "  <tbody>\n",
       "    <tr>\n",
       "      <th>396</th>\n",
       "      <td>NaN</td>\n",
       "      <td>NaN</td>\n",
       "      <td>@AnaLopesVicente @JRothenbergTV @TheCW @cwthe1...</td>\n",
       "    </tr>\n",
       "    <tr>\n",
       "      <th>1609</th>\n",
       "      <td>NaN</td>\n",
       "      <td>NaN</td>\n",
       "      <td>As long as you have student loan debt you shou...</td>\n",
       "    </tr>\n",
       "    <tr>\n",
       "      <th>4101</th>\n",
       "      <td>NaN</td>\n",
       "      <td>NaN</td>\n",
       "      <td>Who is gone:\\n@Nutrish\\n@TripAdvisor \\n@Wayfai...</td>\n",
       "    </tr>\n",
       "    <tr>\n",
       "      <th>8246</th>\n",
       "      <td>NaN</td>\n",
       "      <td>NaN</td>\n",
       "      <td>@TVGuide #Gypsy always and forever #RenewGypsy...</td>\n",
       "    </tr>\n",
       "    <tr>\n",
       "      <th>2076</th>\n",
       "      <td>NaN</td>\n",
       "      <td>NaN</td>\n",
       "      <td>Hulu入ってないんですけど期間限定で入ろうかな。 https://t.co/ymq5qNEMSp</td>\n",
       "    </tr>\n",
       "  </tbody>\n",
       "</table>\n",
       "</div>"
      ],
      "text/plain": [
       "     Place Country Code Place Full Name  \\\n",
       "396                 NaN             NaN   \n",
       "1609                NaN             NaN   \n",
       "4101                NaN             NaN   \n",
       "8246                NaN             NaN   \n",
       "2076                NaN             NaN   \n",
       "\n",
       "                                                  Tweet  \n",
       "396   @AnaLopesVicente @JRothenbergTV @TheCW @cwthe1...  \n",
       "1609  As long as you have student loan debt you shou...  \n",
       "4101  Who is gone:\\n@Nutrish\\n@TripAdvisor \\n@Wayfai...  \n",
       "8246  @TVGuide #Gypsy always and forever #RenewGypsy...  \n",
       "2076  Hulu入ってないんですけど期間限定で入ろうかな。 https://t.co/ymq5qNEMSp  "
      ]
     },
     "execution_count": 7,
     "metadata": {},
     "output_type": "execute_result"
    }
   ],
   "source": [
    "df.sample(5)"
   ]
  },
  {
   "cell_type": "code",
   "execution_count": 8,
   "metadata": {},
   "outputs": [
    {
     "name": "stdout",
     "output_type": "stream",
     "text": [
      "<class 'pandas.core.frame.DataFrame'>\n",
      "RangeIndex: 8884 entries, 0 to 8883\n",
      "Data columns (total 3 columns):\n",
      "Place Country Code    310 non-null object\n",
      "Place Full Name       310 non-null object\n",
      "Tweet                 8884 non-null object\n",
      "dtypes: object(3)\n",
      "memory usage: 208.3+ KB\n"
     ]
    }
   ],
   "source": [
    "df.info()"
   ]
  },
  {
   "cell_type": "code",
   "execution_count": 9,
   "metadata": {},
   "outputs": [],
   "source": [
    "df[['City','state']] = df['Place Full Name'].str.split(',',n =1,expand=True)"
   ]
  },
  {
   "cell_type": "code",
   "execution_count": 10,
   "metadata": {},
   "outputs": [
    {
     "name": "stdout",
     "output_type": "stream",
     "text": [
      "<class 'pandas.core.frame.DataFrame'>\n",
      "RangeIndex: 8884 entries, 0 to 8883\n",
      "Data columns (total 5 columns):\n",
      "Place Country Code    310 non-null object\n",
      "Place Full Name       310 non-null object\n",
      "Tweet                 8884 non-null object\n",
      "City                  310 non-null object\n",
      "state                 310 non-null object\n",
      "dtypes: object(5)\n",
      "memory usage: 347.1+ KB\n"
     ]
    }
   ],
   "source": [
    "df.info()"
   ]
  },
  {
   "cell_type": "code",
   "execution_count": 11,
   "metadata": {},
   "outputs": [
    {
     "data": {
      "text/html": [
       "<div>\n",
       "<style scoped>\n",
       "    .dataframe tbody tr th:only-of-type {\n",
       "        vertical-align: middle;\n",
       "    }\n",
       "\n",
       "    .dataframe tbody tr th {\n",
       "        vertical-align: top;\n",
       "    }\n",
       "\n",
       "    .dataframe thead th {\n",
       "        text-align: right;\n",
       "    }\n",
       "</style>\n",
       "<table border=\"1\" class=\"dataframe\">\n",
       "  <thead>\n",
       "    <tr style=\"text-align: right;\">\n",
       "      <th></th>\n",
       "      <th>Place Country Code</th>\n",
       "      <th>Place Full Name</th>\n",
       "      <th>Tweet</th>\n",
       "      <th>City</th>\n",
       "      <th>state</th>\n",
       "    </tr>\n",
       "  </thead>\n",
       "  <tbody>\n",
       "    <tr>\n",
       "      <th>5187</th>\n",
       "      <td>NaN</td>\n",
       "      <td>NaN</td>\n",
       "      <td>Infinity War isn't \"dangerous\" for movies. \"Da...</td>\n",
       "      <td>NaN</td>\n",
       "      <td>NaN</td>\n",
       "    </tr>\n",
       "    <tr>\n",
       "      <th>2423</th>\n",
       "      <td>NaN</td>\n",
       "      <td>NaN</td>\n",
       "      <td>@ChildofGodRU1 @Starbucks @comcast @HRBlock @S...</td>\n",
       "      <td>NaN</td>\n",
       "      <td>NaN</td>\n",
       "    </tr>\n",
       "    <tr>\n",
       "      <th>2535</th>\n",
       "      <td>US</td>\n",
       "      <td>Rossville, MD</td>\n",
       "      <td>@chiefsdiva69 @david_d1421 @netflix @hulu @Avi...</td>\n",
       "      <td>Rossville</td>\n",
       "      <td>MD</td>\n",
       "    </tr>\n",
       "    <tr>\n",
       "      <th>3171</th>\n",
       "      <td>NaN</td>\n",
       "      <td>NaN</td>\n",
       "      <td>@IanMIrwin @ArtistGailM @Linda1746 @morningmik...</td>\n",
       "      <td>NaN</td>\n",
       "      <td>NaN</td>\n",
       "    </tr>\n",
       "    <tr>\n",
       "      <th>6487</th>\n",
       "      <td>NaN</td>\n",
       "      <td>NaN</td>\n",
       "      <td>Addicted to HULU</td>\n",
       "      <td>NaN</td>\n",
       "      <td>NaN</td>\n",
       "    </tr>\n",
       "    <tr>\n",
       "      <th>529</th>\n",
       "      <td>NaN</td>\n",
       "      <td>NaN</td>\n",
       "      <td>Excited to have these companies on board for D...</td>\n",
       "      <td>NaN</td>\n",
       "      <td>NaN</td>\n",
       "    </tr>\n",
       "    <tr>\n",
       "      <th>7419</th>\n",
       "      <td>NaN</td>\n",
       "      <td>NaN</td>\n",
       "      <td>RT @PraQJoao: @CarolineV_001 @JRothenbergTV @T...</td>\n",
       "      <td>NaN</td>\n",
       "      <td>NaN</td>\n",
       "    </tr>\n",
       "  </tbody>\n",
       "</table>\n",
       "</div>"
      ],
      "text/plain": [
       "     Place Country Code Place Full Name  \\\n",
       "5187                NaN             NaN   \n",
       "2423                NaN             NaN   \n",
       "2535                 US   Rossville, MD   \n",
       "3171                NaN             NaN   \n",
       "6487                NaN             NaN   \n",
       "529                 NaN             NaN   \n",
       "7419                NaN             NaN   \n",
       "\n",
       "                                                  Tweet       City state  \n",
       "5187  Infinity War isn't \"dangerous\" for movies. \"Da...        NaN   NaN  \n",
       "2423  @ChildofGodRU1 @Starbucks @comcast @HRBlock @S...        NaN   NaN  \n",
       "2535  @chiefsdiva69 @david_d1421 @netflix @hulu @Avi...  Rossville    MD  \n",
       "3171  @IanMIrwin @ArtistGailM @Linda1746 @morningmik...        NaN   NaN  \n",
       "6487                                   Addicted to HULU        NaN   NaN  \n",
       "529   Excited to have these companies on board for D...        NaN   NaN  \n",
       "7419  RT @PraQJoao: @CarolineV_001 @JRothenbergTV @T...        NaN   NaN  "
      ]
     },
     "execution_count": 11,
     "metadata": {},
     "output_type": "execute_result"
    }
   ],
   "source": [
    "df.sample(7)"
   ]
  },
  {
   "cell_type": "code",
   "execution_count": 12,
   "metadata": {},
   "outputs": [],
   "source": [
    "df.drop('Place Full Name', axis = 1, inplace=True)"
   ]
  },
  {
   "cell_type": "code",
   "execution_count": 13,
   "metadata": {},
   "outputs": [],
   "source": [
    "df.columns = ['Country','Tweet','City','State']"
   ]
  },
  {
   "cell_type": "code",
   "execution_count": 14,
   "metadata": {},
   "outputs": [
    {
     "name": "stdout",
     "output_type": "stream",
     "text": [
      "<class 'pandas.core.frame.DataFrame'>\n",
      "RangeIndex: 8884 entries, 0 to 8883\n",
      "Data columns (total 4 columns):\n",
      "Country    310 non-null object\n",
      "Tweet      8884 non-null object\n",
      "City       310 non-null object\n",
      "State      310 non-null object\n",
      "dtypes: object(4)\n",
      "memory usage: 277.7+ KB\n"
     ]
    }
   ],
   "source": [
    "df.info()"
   ]
  },
  {
   "cell_type": "markdown",
   "metadata": {},
   "source": [
    "## Cleaning the tweets to remove\n",
    "1. URL links\n",
    "2. HTML tags\n",
    "3. Numbers\n",
    "4. Hashtags and Mentions(@)\n",
    "5. Emoticons"
   ]
  },
  {
   "cell_type": "code",
   "execution_count": 15,
   "metadata": {},
   "outputs": [],
   "source": [
    "import re\n",
    "import csv\n",
    "from textblob import TextBlob\n",
    "from bs4 import BeautifulSoup\n",
    "from tweepy import OAuthHandler\n",
    "import pandas as pd\n",
    "import warnings\n",
    "warnings.filterwarnings(\"ignore\")"
   ]
  },
  {
   "cell_type": "code",
   "execution_count": 16,
   "metadata": {},
   "outputs": [
    {
     "name": "stdout",
     "output_type": "stream",
     "text": [
      "[nltk_data] Downloading package stopwords to\n",
      "[nltk_data]     C:\\Users\\Aswathi\\AppData\\Roaming\\nltk_data...\n",
      "[nltk_data]   Package stopwords is already up-to-date!\n"
     ]
    }
   ],
   "source": [
    "import nltk\n",
    "nltk.download('stopwords')\n",
    "from nltk.corpus import stopwords\n",
    "from nltk.tokenize import word_tokenize\n",
    "from nltk.stem.wordnet import WordNetLemmatizer "
   ]
  },
  {
   "cell_type": "code",
   "execution_count": 17,
   "metadata": {},
   "outputs": [],
   "source": [
    "from nltk.tokenize import WordPunctTokenizer\n",
    "tok = WordPunctTokenizer()"
   ]
  },
  {
   "cell_type": "code",
   "execution_count": 18,
   "metadata": {},
   "outputs": [],
   "source": [
    "pat1 = r'@[A-Za-z0-9]+'\n",
    "pat2 = r'https?://[A-Za-z0-9./]+'\n",
    "combined_pat = r'|'.join((pat1, pat2))\n",
    "\n",
    "def tweet_cleaner(text):\n",
    "    soup = BeautifulSoup(text, 'lxml')\n",
    "    souped = soup.get_text()\n",
    "    stripped = re.sub(combined_pat, '', souped)\n",
    "    try:\n",
    "        clean = stripped.decode(\"utf-8-sig\").replace(u\"\\ufffd\", \"?\")\n",
    "    except:\n",
    "        clean = stripped\n",
    "    letters_only = re.sub(\"[^a-zA-Z]\", \" \", clean)# creates unnecessary white spaces\n",
    "    lower_case = letters_only.lower()\n",
    "    words = tok.tokenize(lower_case) #tokenize and join together to remove unneccessary white spaces\n",
    "    return (\" \".join(words)).strip()"
   ]
  },
  {
   "cell_type": "code",
   "execution_count": 19,
   "metadata": {},
   "outputs": [
    {
     "data": {
      "text/plain": [
       "['hour giveaway random paypal steam key hulu x winners retweet follow end hours good luck',\n",
       " 'hour giveaway random paypal steam key hulu x winners retweet follow end hours good luck',\n",
       " 'hour giveaway random paypal steam key hulu x winners retweet follow end hours good luck',\n",
       " 'sungai cikijing menyempit akibat sedimentasi dari erosi di bagian hulu alih fungsi lahan menjadi kawasan permukimaan normalisasi sungai cikijing diperlebar dari m menjadi meter sepanjang km dan dilakukan pengerukan sedimen infopupr',\n",
       " 'sungai cikijing menyempit akibat sedimentasi dari erosi di bagian hulu alih fungsi lahan menjadi kawasan permukimaan normalisasi sungai cikijing diperlebar dari m menjadi meter sepanjang km dan dilakukan pengerukan sedimen infopupr',\n",
       " 'sungai cikijing menyempit akibat sedimentasi dari erosi di bagian hulu alih fungsi lahan menjadi kawasan permukimaan normalisasi sungai cikijing diperlebar dari m menjadi meter sepanjang km dan dilakukan pengerukan sedimen infopupr',\n",
       " 'popculture tweetoftheday via the handmaid s tale season how margaret atwood and bruce miller tackled race on hulu s biggest hit',\n",
       " 'popculture tweetoftheday via the handmaid s tale season how margaret atwood and bruce miller tackled race on hulu s biggest hit',\n",
       " 'vpn doesn t feel so private anymore when you get copyright warnings netflix hulu youtube and other streaming services blocked even though you re using a us server i ve switched all devices to current trusted that solves these issues discount codes to follow',\n",
       " 'bandtogether bandt we want them on tv or i lk all these syfyforbandt huluforbandt netflixforbandt don t forget majandradelfino brendanfehr roswell again and u']"
      ]
     },
     "execution_count": 19,
     "metadata": {},
     "output_type": "execute_result"
    }
   ],
   "source": [
    "testing = df.Tweet[:10]\n",
    "test_result = []\n",
    "for t in testing:\n",
    "    test_result.append(tweet_cleaner(t))\n",
    "test_result"
   ]
  },
  {
   "cell_type": "code",
   "execution_count": 20,
   "metadata": {},
   "outputs": [
    {
     "name": "stdout",
     "output_type": "stream",
     "text": [
      "Cleaning and parsing the tweets...\n",
      "\n",
      "Wall time: 2.97 s\n"
     ]
    }
   ],
   "source": [
    "%%time\n",
    "print(\"Cleaning and parsing the tweets...\\n\")\n",
    "clean_tweet = []\n",
    "for i in range(0,len(df.Tweet)):                                                                   \n",
    "    clean_tweet.append(tweet_cleaner(df['Tweet'][i]))"
   ]
  },
  {
   "cell_type": "code",
   "execution_count": 21,
   "metadata": {},
   "outputs": [],
   "source": [
    "clean_df = pd.DataFrame(clean_tweet,columns=['cleaned_tweet'])"
   ]
  },
  {
   "cell_type": "code",
   "execution_count": 22,
   "metadata": {},
   "outputs": [],
   "source": [
    "df_clean = pd.concat([df,clean_df], axis = 1, ignore_index = True)"
   ]
  },
  {
   "cell_type": "code",
   "execution_count": 23,
   "metadata": {},
   "outputs": [
    {
     "data": {
      "text/html": [
       "<div>\n",
       "<style scoped>\n",
       "    .dataframe tbody tr th:only-of-type {\n",
       "        vertical-align: middle;\n",
       "    }\n",
       "\n",
       "    .dataframe tbody tr th {\n",
       "        vertical-align: top;\n",
       "    }\n",
       "\n",
       "    .dataframe thead th {\n",
       "        text-align: right;\n",
       "    }\n",
       "</style>\n",
       "<table border=\"1\" class=\"dataframe\">\n",
       "  <thead>\n",
       "    <tr style=\"text-align: right;\">\n",
       "      <th></th>\n",
       "      <th>Country</th>\n",
       "      <th>Tweet</th>\n",
       "      <th>City</th>\n",
       "      <th>State</th>\n",
       "    </tr>\n",
       "  </thead>\n",
       "  <tbody>\n",
       "    <tr>\n",
       "      <th>0</th>\n",
       "      <td>NaN</td>\n",
       "      <td>16 Hour #Giveaway !💰\\n\\n👉Random Paypal\\n👉1 Ste...</td>\n",
       "      <td>NaN</td>\n",
       "      <td>NaN</td>\n",
       "    </tr>\n",
       "    <tr>\n",
       "      <th>1</th>\n",
       "      <td>NaN</td>\n",
       "      <td>16 Hour #Giveaway !💰\\n\\n👉Random Paypal\\n👉1 Ste...</td>\n",
       "      <td>NaN</td>\n",
       "      <td>NaN</td>\n",
       "    </tr>\n",
       "    <tr>\n",
       "      <th>2</th>\n",
       "      <td>NaN</td>\n",
       "      <td>16 Hour #Giveaway !💰\\n\\n👉Random Paypal\\n👉1 Ste...</td>\n",
       "      <td>NaN</td>\n",
       "      <td>NaN</td>\n",
       "    </tr>\n",
       "    <tr>\n",
       "      <th>3</th>\n",
       "      <td>NaN</td>\n",
       "      <td>Sungai Cikijing menyempit akibat sedimentasi d...</td>\n",
       "      <td>NaN</td>\n",
       "      <td>NaN</td>\n",
       "    </tr>\n",
       "    <tr>\n",
       "      <th>4</th>\n",
       "      <td>NaN</td>\n",
       "      <td>Sungai Cikijing menyempit akibat sedimentasi d...</td>\n",
       "      <td>NaN</td>\n",
       "      <td>NaN</td>\n",
       "    </tr>\n",
       "  </tbody>\n",
       "</table>\n",
       "</div>"
      ],
      "text/plain": [
       "  Country                                              Tweet City State\n",
       "0     NaN  16 Hour #Giveaway !💰\\n\\n👉Random Paypal\\n👉1 Ste...  NaN   NaN\n",
       "1     NaN  16 Hour #Giveaway !💰\\n\\n👉Random Paypal\\n👉1 Ste...  NaN   NaN\n",
       "2     NaN  16 Hour #Giveaway !💰\\n\\n👉Random Paypal\\n👉1 Ste...  NaN   NaN\n",
       "3     NaN  Sungai Cikijing menyempit akibat sedimentasi d...  NaN   NaN\n",
       "4     NaN  Sungai Cikijing menyempit akibat sedimentasi d...  NaN   NaN"
      ]
     },
     "execution_count": 23,
     "metadata": {},
     "output_type": "execute_result"
    }
   ],
   "source": [
    "df.head()"
   ]
  },
  {
   "cell_type": "code",
   "execution_count": 24,
   "metadata": {},
   "outputs": [],
   "source": [
    "df_clean.columns = ['Country','Tweet','City','State','Clean_tweet']"
   ]
  },
  {
   "cell_type": "code",
   "execution_count": 25,
   "metadata": {},
   "outputs": [
    {
     "data": {
      "text/html": [
       "<div>\n",
       "<style scoped>\n",
       "    .dataframe tbody tr th:only-of-type {\n",
       "        vertical-align: middle;\n",
       "    }\n",
       "\n",
       "    .dataframe tbody tr th {\n",
       "        vertical-align: top;\n",
       "    }\n",
       "\n",
       "    .dataframe thead th {\n",
       "        text-align: right;\n",
       "    }\n",
       "</style>\n",
       "<table border=\"1\" class=\"dataframe\">\n",
       "  <thead>\n",
       "    <tr style=\"text-align: right;\">\n",
       "      <th></th>\n",
       "      <th>Country</th>\n",
       "      <th>Tweet</th>\n",
       "      <th>City</th>\n",
       "      <th>State</th>\n",
       "      <th>Clean_tweet</th>\n",
       "    </tr>\n",
       "  </thead>\n",
       "  <tbody>\n",
       "    <tr>\n",
       "      <th>957</th>\n",
       "      <td>NaN</td>\n",
       "      <td>RT @iLIP_JP: 中村倫也、世界19か国放送の日本版シャーロック・ホームズに出演。「...</td>\n",
       "      <td>NaN</td>\n",
       "      <td>NaN</td>\n",
       "      <td>rt jp japan</td>\n",
       "    </tr>\n",
       "    <tr>\n",
       "      <th>5021</th>\n",
       "      <td>NaN</td>\n",
       "      <td>劇場版 名探偵コナン 漆黒の追跡者 (チェイサー)：劇場版 名探偵コナン 漆黒の追跡者 (チ...</td>\n",
       "      <td>NaN</td>\n",
       "      <td>NaN</td>\n",
       "      <td>japan</td>\n",
       "    </tr>\n",
       "    <tr>\n",
       "      <th>5557</th>\n",
       "      <td>NaN</td>\n",
       "      <td>RT @Zenja20: #XenaRevival season 7 Xena Movie ...</td>\n",
       "      <td>NaN</td>\n",
       "      <td>NaN</td>\n",
       "      <td>rt xenarevival season xena movie or short film...</td>\n",
       "    </tr>\n",
       "    <tr>\n",
       "      <th>4042</th>\n",
       "      <td>NaN</td>\n",
       "      <td>So Y’all Finna Pay For My Hulu &amp;amp; Netflix, ...</td>\n",
       "      <td>NaN</td>\n",
       "      <td>NaN</td>\n",
       "      <td>so y all finna pay for my hulu netflix bet</td>\n",
       "    </tr>\n",
       "    <tr>\n",
       "      <th>4265</th>\n",
       "      <td>NaN</td>\n",
       "      <td>@TexasEEOLaw @madbum456 @GildaRose77 @AnguaOce...</td>\n",
       "      <td>NaN</td>\n",
       "      <td>NaN</td>\n",
       "      <td>elli protect mueller law is great idea can use...</td>\n",
       "    </tr>\n",
       "  </tbody>\n",
       "</table>\n",
       "</div>"
      ],
      "text/plain": [
       "     Country                                              Tweet City State  \\\n",
       "957      NaN  RT @iLIP_JP: 中村倫也、世界19か国放送の日本版シャーロック・ホームズに出演。「...  NaN   NaN   \n",
       "5021     NaN  劇場版 名探偵コナン 漆黒の追跡者 (チェイサー)：劇場版 名探偵コナン 漆黒の追跡者 (チ...  NaN   NaN   \n",
       "5557     NaN  RT @Zenja20: #XenaRevival season 7 Xena Movie ...  NaN   NaN   \n",
       "4042     NaN  So Y’all Finna Pay For My Hulu &amp; Netflix, ...  NaN   NaN   \n",
       "4265     NaN  @TexasEEOLaw @madbum456 @GildaRose77 @AnguaOce...  NaN   NaN   \n",
       "\n",
       "                                            Clean_tweet  \n",
       "957                                         rt jp japan  \n",
       "5021                                              japan  \n",
       "5557  rt xenarevival season xena movie or short film...  \n",
       "4042         so y all finna pay for my hulu netflix bet  \n",
       "4265  elli protect mueller law is great idea can use...  "
      ]
     },
     "execution_count": 25,
     "metadata": {},
     "output_type": "execute_result"
    }
   ],
   "source": [
    "df_clean.sample(5)"
   ]
  },
  {
   "cell_type": "markdown",
   "metadata": {},
   "source": [
    "## Performing Sentiment Analysis using Text Blob"
   ]
  },
  {
   "cell_type": "code",
   "execution_count": 26,
   "metadata": {},
   "outputs": [],
   "source": [
    "for i in range(0,len(df_clean)):\n",
    "    blob = TextBlob(df_clean.loc[i,\"Clean_tweet\"])\n",
    "    df_clean.loc[i,'polarity'] = blob.sentiment.polarity"
   ]
  },
  {
   "cell_type": "code",
   "execution_count": 27,
   "metadata": {},
   "outputs": [
    {
     "data": {
      "text/html": [
       "<div>\n",
       "<style scoped>\n",
       "    .dataframe tbody tr th:only-of-type {\n",
       "        vertical-align: middle;\n",
       "    }\n",
       "\n",
       "    .dataframe tbody tr th {\n",
       "        vertical-align: top;\n",
       "    }\n",
       "\n",
       "    .dataframe thead th {\n",
       "        text-align: right;\n",
       "    }\n",
       "</style>\n",
       "<table border=\"1\" class=\"dataframe\">\n",
       "  <thead>\n",
       "    <tr style=\"text-align: right;\">\n",
       "      <th></th>\n",
       "      <th>Country</th>\n",
       "      <th>Tweet</th>\n",
       "      <th>City</th>\n",
       "      <th>State</th>\n",
       "      <th>Clean_tweet</th>\n",
       "      <th>polarity</th>\n",
       "    </tr>\n",
       "  </thead>\n",
       "  <tbody>\n",
       "    <tr>\n",
       "      <th>8814</th>\n",
       "      <td>NaN</td>\n",
       "      <td>pls y'all @heretv @HereMediaInc @AmazonVideo @...</td>\n",
       "      <td>NaN</td>\n",
       "      <td>NaN</td>\n",
       "      <td>pls y all</td>\n",
       "      <td>0.000000</td>\n",
       "    </tr>\n",
       "    <tr>\n",
       "      <th>6698</th>\n",
       "      <td>NaN</td>\n",
       "      <td>We count on U to bring #Lexa back\\nMake #LexaS...</td>\n",
       "      <td>NaN</td>\n",
       "      <td>NaN</td>\n",
       "      <td>we count on u to bring lexa back make lexaspin...</td>\n",
       "      <td>0.000000</td>\n",
       "    </tr>\n",
       "    <tr>\n",
       "      <th>8547</th>\n",
       "      <td>NaN</td>\n",
       "      <td>@hulu_support it would be really great if you ...</td>\n",
       "      <td>NaN</td>\n",
       "      <td>NaN</td>\n",
       "      <td>support it would be really great if you would ...</td>\n",
       "      <td>0.333333</td>\n",
       "    </tr>\n",
       "    <tr>\n",
       "      <th>2401</th>\n",
       "      <td>NaN</td>\n",
       "      <td>RT @hulu_japan: #安室奈美恵 密着ドキュメンタリー エピソード７を配信スター...</td>\n",
       "      <td>NaN</td>\n",
       "      <td>NaN</td>\n",
       "      <td>rt japan don t wanna cry sweet</td>\n",
       "      <td>0.350000</td>\n",
       "    </tr>\n",
       "    <tr>\n",
       "      <th>4352</th>\n",
       "      <td>NaN</td>\n",
       "      <td>Due to the @michelleisawolf unfunny rant at th...</td>\n",
       "      <td>NaN</td>\n",
       "      <td>NaN</td>\n",
       "      <td>due to the unfunny rant at the whca event on i...</td>\n",
       "      <td>-0.211667</td>\n",
       "    </tr>\n",
       "  </tbody>\n",
       "</table>\n",
       "</div>"
      ],
      "text/plain": [
       "     Country                                              Tweet City State  \\\n",
       "8814     NaN  pls y'all @heretv @HereMediaInc @AmazonVideo @...  NaN   NaN   \n",
       "6698     NaN  We count on U to bring #Lexa back\\nMake #LexaS...  NaN   NaN   \n",
       "8547     NaN  @hulu_support it would be really great if you ...  NaN   NaN   \n",
       "2401     NaN  RT @hulu_japan: #安室奈美恵 密着ドキュメンタリー エピソード７を配信スター...  NaN   NaN   \n",
       "4352     NaN  Due to the @michelleisawolf unfunny rant at th...  NaN   NaN   \n",
       "\n",
       "                                            Clean_tweet  polarity  \n",
       "8814                                          pls y all  0.000000  \n",
       "6698  we count on u to bring lexa back make lexaspin...  0.000000  \n",
       "8547  support it would be really great if you would ...  0.333333  \n",
       "2401                     rt japan don t wanna cry sweet  0.350000  \n",
       "4352  due to the unfunny rant at the whca event on i... -0.211667  "
      ]
     },
     "execution_count": 27,
     "metadata": {},
     "output_type": "execute_result"
    }
   ],
   "source": [
    "df_clean.sample(5)"
   ]
  },
  {
   "cell_type": "code",
   "execution_count": 28,
   "metadata": {},
   "outputs": [],
   "source": [
    "for i in range(0,len(df_clean)):\n",
    "    if(df_clean.loc[i,\"polarity\"] > 0) :\n",
    "        df_clean.loc[i,'sentiment'] = 1\n",
    "    else:\n",
    "        if(df_clean.loc[i,\"polarity\"] < 0):\n",
    "            df_clean.loc[i,'sentiment'] = -1\n",
    "        else:\n",
    "            df_clean.loc[i,'sentiment'] = 0"
   ]
  },
  {
   "cell_type": "code",
   "execution_count": 29,
   "metadata": {},
   "outputs": [
    {
     "data": {
      "text/html": [
       "<div>\n",
       "<style scoped>\n",
       "    .dataframe tbody tr th:only-of-type {\n",
       "        vertical-align: middle;\n",
       "    }\n",
       "\n",
       "    .dataframe tbody tr th {\n",
       "        vertical-align: top;\n",
       "    }\n",
       "\n",
       "    .dataframe thead th {\n",
       "        text-align: right;\n",
       "    }\n",
       "</style>\n",
       "<table border=\"1\" class=\"dataframe\">\n",
       "  <thead>\n",
       "    <tr style=\"text-align: right;\">\n",
       "      <th></th>\n",
       "      <th>Country</th>\n",
       "      <th>Tweet</th>\n",
       "      <th>City</th>\n",
       "      <th>State</th>\n",
       "      <th>Clean_tweet</th>\n",
       "      <th>polarity</th>\n",
       "      <th>sentiment</th>\n",
       "    </tr>\n",
       "  </thead>\n",
       "  <tbody>\n",
       "    <tr>\n",
       "      <th>3339</th>\n",
       "      <td>NaN</td>\n",
       "      <td>hulu yung friend naming bakla ni ecka nung gra...</td>\n",
       "      <td>NaN</td>\n",
       "      <td>NaN</td>\n",
       "      <td>hulu yung friend naming bakla ni ecka nung grade</td>\n",
       "      <td>0.000</td>\n",
       "      <td>0.0</td>\n",
       "    </tr>\n",
       "    <tr>\n",
       "      <th>5183</th>\n",
       "      <td>NaN</td>\n",
       "      <td>@_jadasade It’s already on Hulu</td>\n",
       "      <td>NaN</td>\n",
       "      <td>NaN</td>\n",
       "      <td>jadasade it s already on hulu</td>\n",
       "      <td>0.000</td>\n",
       "      <td>0.0</td>\n",
       "    </tr>\n",
       "    <tr>\n",
       "      <th>5605</th>\n",
       "      <td>NaN</td>\n",
       "      <td>@LiisaVliisa @MishaLidov @NBCUniversal @robtap...</td>\n",
       "      <td>NaN</td>\n",
       "      <td>NaN</td>\n",
       "      <td>network a day in the life funny did u know the...</td>\n",
       "      <td>-0.175</td>\n",
       "      <td>-1.0</td>\n",
       "    </tr>\n",
       "    <tr>\n",
       "      <th>905</th>\n",
       "      <td>NaN</td>\n",
       "      <td>RT @Baby___Del: @netflix @hulu  @Avis @Enterpr...</td>\n",
       "      <td>NaN</td>\n",
       "      <td>NaN</td>\n",
       "      <td>rt del</td>\n",
       "      <td>0.000</td>\n",
       "      <td>0.0</td>\n",
       "    </tr>\n",
       "    <tr>\n",
       "      <th>2697</th>\n",
       "      <td>NaN</td>\n",
       "      <td>@ChildofGodRU1 @TimSher38807557 @Starbucks @co...</td>\n",
       "      <td>NaN</td>\n",
       "      <td>NaN</td>\n",
       "      <td>don t forget yeti</td>\n",
       "      <td>0.000</td>\n",
       "      <td>0.0</td>\n",
       "    </tr>\n",
       "  </tbody>\n",
       "</table>\n",
       "</div>"
      ],
      "text/plain": [
       "     Country                                              Tweet City State  \\\n",
       "3339     NaN  hulu yung friend naming bakla ni ecka nung gra...  NaN   NaN   \n",
       "5183     NaN                    @_jadasade It’s already on Hulu  NaN   NaN   \n",
       "5605     NaN  @LiisaVliisa @MishaLidov @NBCUniversal @robtap...  NaN   NaN   \n",
       "905      NaN  RT @Baby___Del: @netflix @hulu  @Avis @Enterpr...  NaN   NaN   \n",
       "2697     NaN  @ChildofGodRU1 @TimSher38807557 @Starbucks @co...  NaN   NaN   \n",
       "\n",
       "                                            Clean_tweet  polarity  sentiment  \n",
       "3339   hulu yung friend naming bakla ni ecka nung grade     0.000        0.0  \n",
       "5183                      jadasade it s already on hulu     0.000        0.0  \n",
       "5605  network a day in the life funny did u know the...    -0.175       -1.0  \n",
       "905                                              rt del     0.000        0.0  \n",
       "2697                                  don t forget yeti     0.000        0.0  "
      ]
     },
     "execution_count": 29,
     "metadata": {},
     "output_type": "execute_result"
    }
   ],
   "source": [
    "df_clean.sample(5)"
   ]
  },
  {
   "cell_type": "markdown",
   "metadata": {},
   "source": [
    "## Sentiment Analysis by Country"
   ]
  },
  {
   "cell_type": "code",
   "execution_count": 30,
   "metadata": {},
   "outputs": [
    {
     "data": {
      "text/plain": [
       "Country           8\n",
       "Tweet          2907\n",
       "City             97\n",
       "State            39\n",
       "Clean_tweet    2188\n",
       "polarity        388\n",
       "sentiment         3\n",
       "dtype: int64"
      ]
     },
     "execution_count": 30,
     "metadata": {},
     "output_type": "execute_result"
    }
   ],
   "source": [
    "df_clean.nunique()"
   ]
  },
  {
   "cell_type": "code",
   "execution_count": 31,
   "metadata": {},
   "outputs": [],
   "source": [
    "country_senti = df_clean.groupby(['Country'])['sentiment'].mean()\n",
    "country_pol = df_clean.groupby(['Country'])['polarity'].mean()"
   ]
  },
  {
   "cell_type": "code",
   "execution_count": 56,
   "metadata": {},
   "outputs": [
    {
     "data": {
      "text/plain": [
       "Country\n",
       "BR    0.000000\n",
       "FR    0.500000\n",
       "GB    0.111111\n",
       "ID    0.000000\n",
       "JP    0.000000\n",
       "MY    0.000000\n",
       "NL    1.000000\n",
       "US    0.329787\n",
       "Name: sentiment, dtype: float64"
      ]
     },
     "execution_count": 56,
     "metadata": {},
     "output_type": "execute_result"
    }
   ],
   "source": [
    "country_senti"
   ]
  },
  {
   "cell_type": "code",
   "execution_count": 57,
   "metadata": {},
   "outputs": [
    {
     "data": {
      "text/plain": [
       "Country\n",
       "MY    0.000000\n",
       "GB    0.009259\n",
       "JP    0.000000\n",
       "NL    0.500000\n",
       "FR    0.350000\n",
       "Name: polarity, dtype: float64"
      ]
     },
     "execution_count": 57,
     "metadata": {},
     "output_type": "execute_result"
    }
   ],
   "source": [
    "country_pol.sample(5)"
   ]
  },
  {
   "cell_type": "code",
   "execution_count": 58,
   "metadata": {},
   "outputs": [],
   "source": [
    "df_clean.to_csv('hulusenti.csv',sep=',',index=False,encoding='utf-8')"
   ]
  },
  {
   "cell_type": "markdown",
   "metadata": {},
   "source": [
    "## Finding percentage of negative vs positive tweets"
   ]
  },
  {
   "cell_type": "code",
   "execution_count": 45,
   "metadata": {},
   "outputs": [],
   "source": [
    "pos_tweets = [ tweet for index, tweet in enumerate(df_clean['Clean_tweet'][df_clean['sentiment'] == 1])]\n",
    "neu_tweets = [ tweet for index, tweet in enumerate(df_clean['Clean_tweet'][df_clean['sentiment'] == 0])]\n",
    "neg_tweets = [ tweet for index, tweet in enumerate(df_clean['Clean_tweet'][df_clean['sentiment'] == -1])]"
   ]
  },
  {
   "cell_type": "code",
   "execution_count": 46,
   "metadata": {},
   "outputs": [
    {
     "name": "stdout",
     "output_type": "stream",
     "text": [
      "Percentage of positive tweets: 30.14407924358397%\n",
      "Percentage of neutral tweets: 61.28995947771274%\n",
      "Percentage of negative tweets: 8.565961278703286%\n"
     ]
    }
   ],
   "source": [
    "print(\"Percentage of positive tweets: {}%\".format(len(pos_tweets)*100/len(df_clean['Clean_tweet'])))\n",
    "print(\"Percentage of neutral tweets: {}%\".format(len(neu_tweets)*100/len(df_clean['Clean_tweet'])))\n",
    "print(\"Percentage of negative tweets: {}%\".format(len(neg_tweets)*100/len(df_clean['Clean_tweet'])))"
   ]
  },
  {
   "cell_type": "markdown",
   "metadata": {},
   "source": [
    "## Sentiment Analysis for States in USA"
   ]
  },
  {
   "cell_type": "code",
   "execution_count": 47,
   "metadata": {},
   "outputs": [],
   "source": [
    "df_state = df_clean[df_clean.Country == 'US']"
   ]
  },
  {
   "cell_type": "code",
   "execution_count": 48,
   "metadata": {},
   "outputs": [
    {
     "data": {
      "text/plain": [
       "(282, 7)"
      ]
     },
     "execution_count": 48,
     "metadata": {},
     "output_type": "execute_result"
    }
   ],
   "source": [
    "df_state.shape"
   ]
  },
  {
   "cell_type": "code",
   "execution_count": 49,
   "metadata": {},
   "outputs": [
    {
     "data": {
      "text/plain": [
       "Country         1\n",
       "Tweet          99\n",
       "City           82\n",
       "State          26\n",
       "Clean_tweet    96\n",
       "polarity       39\n",
       "sentiment       3\n",
       "dtype: int64"
      ]
     },
     "execution_count": 49,
     "metadata": {},
     "output_type": "execute_result"
    }
   ],
   "source": [
    "df_state.nunique()"
   ]
  },
  {
   "cell_type": "code",
   "execution_count": 50,
   "metadata": {},
   "outputs": [],
   "source": [
    "State_senti = df_state.groupby(['State'])['sentiment'].mean()\n",
    "State_pol = df_state.groupby(['State'])['polarity'].mean()"
   ]
  },
  {
   "cell_type": "code",
   "execution_count": 51,
   "metadata": {},
   "outputs": [
    {
     "data": {
      "text/plain": [
       "State\n",
       " FL    1.000000\n",
       " IL    0.157895\n",
       " KY    1.000000\n",
       " VA    0.000000\n",
       " CT    1.000000\n",
       "Name: sentiment, dtype: float64"
      ]
     },
     "execution_count": 51,
     "metadata": {},
     "output_type": "execute_result"
    }
   ],
   "source": [
    "State_senti.sample(5)"
   ]
  },
  {
   "cell_type": "code",
   "execution_count": 52,
   "metadata": {},
   "outputs": [
    {
     "data": {
      "text/plain": [
       "State\n",
       " IN    -0.166667\n",
       " USA    0.132001\n",
       " MI     0.040909\n",
       " NC     0.103030\n",
       " KY     0.200000\n",
       "Name: polarity, dtype: float64"
      ]
     },
     "execution_count": 52,
     "metadata": {},
     "output_type": "execute_result"
    }
   ],
   "source": [
    "State_pol.sample(5)"
   ]
  },
  {
   "cell_type": "code",
   "execution_count": 54,
   "metadata": {},
   "outputs": [],
   "source": [
    "pos_tweets = [ tweet for index, tweet in enumerate(df_state['Clean_tweet'][df_state['sentiment'] == 1])]\n",
    "neu_tweets = [ tweet for index, tweet in enumerate(df_state['Clean_tweet'][df_state['sentiment'] == 0])]\n",
    "neg_tweets = [ tweet for index, tweet in enumerate(df_state['Clean_tweet'][df_state['sentiment'] == -1])]"
   ]
  },
  {
   "cell_type": "code",
   "execution_count": 55,
   "metadata": {},
   "outputs": [
    {
     "name": "stdout",
     "output_type": "stream",
     "text": [
      "Percentage of positive tweets within US: 39.716312056737586%\n",
      "Percentage of neutral tweets within US: 53.54609929078014%\n",
      "Percentage of negative tweets within US: 6.73758865248227%\n"
     ]
    }
   ],
   "source": [
    "print(\"Percentage of positive tweets within US: {}%\".format(len(pos_tweets)*100/len(df_state['Clean_tweet'])))\n",
    "print(\"Percentage of neutral tweets within US: {}%\".format(len(neu_tweets)*100/len(df_state['Clean_tweet'])))\n",
    "print(\"Percentage of negative tweets within US: {}%\".format(len(neg_tweets)*100/len(df_state['Clean_tweet'])))"
   ]
  },
  {
   "cell_type": "code",
   "execution_count": null,
   "metadata": {
    "collapsed": true
   },
   "outputs": [],
   "source": []
  }
 ],
 "metadata": {
  "kernelspec": {
   "display_name": "Python 3",
   "language": "python",
   "name": "python3"
  },
  "language_info": {
   "codemirror_mode": {
    "name": "ipython",
    "version": 3
   },
   "file_extension": ".py",
   "mimetype": "text/x-python",
   "name": "python",
   "nbconvert_exporter": "python",
   "pygments_lexer": "ipython3",
   "version": "3.6.5"
  }
 },
 "nbformat": 4,
 "nbformat_minor": 2
}
