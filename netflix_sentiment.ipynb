{
 "cells": [
  {
   "cell_type": "code",
   "execution_count": 1,
   "metadata": {
    "collapsed": true
   },
   "outputs": [],
   "source": [
    "import pandas as pd\n",
    "import numpy as np"
   ]
  },
  {
   "cell_type": "code",
   "execution_count": 2,
   "metadata": {
    "collapsed": true
   },
   "outputs": [],
   "source": [
    "df = pd.read_excel(\"C:\\\\Users\\\\sadhana reddy\\\\Desktop\\\\MIS\\\\Spring'17\\\\SNA\\\\NodeXL\\\\Netflix_location.xlsx\",\n",
    "                   sheet_name = 'Sheet1',skiprows=0,header=1)"
   ]
  },
  {
   "cell_type": "code",
   "execution_count": 3,
   "metadata": {},
   "outputs": [
    {
     "name": "stdout",
     "output_type": "stream",
     "text": [
      "<class 'pandas.core.frame.DataFrame'>\n",
      "RangeIndex: 26092 entries, 0 to 26091\n",
      "Data columns (total 52 columns):\n",
      "Vertex 1                          26092 non-null object\n",
      "Vertex 2                          26092 non-null object\n",
      "Color                             0 non-null float64\n",
      "Width                             0 non-null float64\n",
      "Style                             0 non-null float64\n",
      "Opacity                           0 non-null float64\n",
      "Visibility                        0 non-null float64\n",
      "Label                             0 non-null float64\n",
      "Label Text Color                  0 non-null float64\n",
      "Label Font Size                   0 non-null float64\n",
      "Reciprocated?                     0 non-null float64\n",
      "ID                                0 non-null float64\n",
      "Dynamic Filter                    0 non-null float64\n",
      "Add Your Own Columns Here         0 non-null float64\n",
      "Relationship                      26092 non-null object\n",
      "Relationship Date (UTC)           26092 non-null datetime64[ns]\n",
      "Tweet                             26092 non-null object\n",
      "URLs in Tweet                     2998 non-null object\n",
      "Domains in Tweet                  2998 non-null object\n",
      "Hashtags in Tweet                 4946 non-null object\n",
      "Media in Tweet                    3608 non-null object\n",
      "Tweet Image File                  26092 non-null object\n",
      "Tweet Date (UTC)                  26092 non-null datetime64[ns]\n",
      "Twitter Page for Tweet            26092 non-null object\n",
      "Latitude                          10 non-null float64\n",
      "Longitude                         10 non-null float64\n",
      "Imported ID                       26092 non-null int64\n",
      "In-Reply-To Tweet ID              4041 non-null float64\n",
      "Favorited                         26092 non-null bool\n",
      "Favorite Count                    26092 non-null int64\n",
      "In-Reply-To User ID               4508 non-null float64\n",
      "Is Quote Status                   26092 non-null bool\n",
      "Language                          26092 non-null object\n",
      "Possibly Sensitive                0 non-null float64\n",
      "Quoted Status ID                  1219 non-null float64\n",
      "Retweeted                         26092 non-null bool\n",
      "Retweet Count                     26092 non-null int64\n",
      "Retweet ID                        14561 non-null float64\n",
      "Source                            26092 non-null object\n",
      "Truncated                         26092 non-null bool\n",
      "Unified Twitter ID                26092 non-null int64\n",
      "Imported Tweet Type               26092 non-null object\n",
      "Added By Extended Analysis        26092 non-null int64\n",
      "Corrected By Extended Analysis    26092 non-null int64\n",
      "Place Bounding Box                632 non-null object\n",
      "Place Country                     632 non-null object\n",
      "Place Country Code                632 non-null object\n",
      "Place Full Name                   632 non-null object\n",
      "Place ID                          632 non-null object\n",
      "Place Name                        632 non-null object\n",
      "Place Type                        632 non-null object\n",
      "Place URL                         632 non-null object\n",
      "dtypes: bool(4), datetime64[ns](2), float64(19), int64(6), object(21)\n",
      "memory usage: 9.7+ MB\n"
     ]
    }
   ],
   "source": [
    "df.info()"
   ]
  },
  {
   "cell_type": "code",
   "execution_count": 4,
   "metadata": {},
   "outputs": [],
   "source": [
    "df = df[['Place Country Code','Place Full Name','Tweet']]"
   ]
  },
  {
   "cell_type": "code",
   "execution_count": 8,
   "metadata": {},
   "outputs": [
    {
     "data": {
      "text/html": [
       "<div>\n",
       "<style>\n",
       "    .dataframe thead tr:only-child th {\n",
       "        text-align: right;\n",
       "    }\n",
       "\n",
       "    .dataframe thead th {\n",
       "        text-align: left;\n",
       "    }\n",
       "\n",
       "    .dataframe tbody tr th {\n",
       "        vertical-align: top;\n",
       "    }\n",
       "</style>\n",
       "<table border=\"1\" class=\"dataframe\">\n",
       "  <thead>\n",
       "    <tr style=\"text-align: right;\">\n",
       "      <th></th>\n",
       "      <th>Place Country Code</th>\n",
       "      <th>Place Full Name</th>\n",
       "      <th>Tweet</th>\n",
       "    </tr>\n",
       "  </thead>\n",
       "  <tbody>\n",
       "    <tr>\n",
       "      <th>16440</th>\n",
       "      <td>NaN</td>\n",
       "      <td>NaN</td>\n",
       "      <td>RT @iampostbad: non vu qu'il faut faire quand ...</td>\n",
       "    </tr>\n",
       "    <tr>\n",
       "      <th>14951</th>\n",
       "      <td>NaN</td>\n",
       "      <td>NaN</td>\n",
       "      <td>RT @milliebbrown: “I’m going to my friends. I’...</td>\n",
       "    </tr>\n",
       "    <tr>\n",
       "      <th>4939</th>\n",
       "      <td>US</td>\n",
       "      <td>Revere, MA</td>\n",
       "      <td>@netflix where is  #JaneTheVirgin season 4 at?...</td>\n",
       "    </tr>\n",
       "    <tr>\n",
       "      <th>15253</th>\n",
       "      <td>NaN</td>\n",
       "      <td>NaN</td>\n",
       "      <td>@OphCourse tía Oph, ayudanos a decidir nos que...</td>\n",
       "    </tr>\n",
       "    <tr>\n",
       "      <th>23992</th>\n",
       "      <td>NaN</td>\n",
       "      <td>NaN</td>\n",
       "      <td>RT @POPSTAFFTWEETS: @LelianaSera @thatizsugoi ...</td>\n",
       "    </tr>\n",
       "  </tbody>\n",
       "</table>\n",
       "</div>"
      ],
      "text/plain": [
       "      Place Country Code Place Full Name  \\\n",
       "16440                NaN             NaN   \n",
       "14951                NaN             NaN   \n",
       "4939                  US      Revere, MA   \n",
       "15253                NaN             NaN   \n",
       "23992                NaN             NaN   \n",
       "\n",
       "                                                   Tweet  \n",
       "16440  RT @iampostbad: non vu qu'il faut faire quand ...  \n",
       "14951  RT @milliebbrown: “I’m going to my friends. I’...  \n",
       "4939   @netflix where is  #JaneTheVirgin season 4 at?...  \n",
       "15253  @OphCourse tía Oph, ayudanos a decidir nos que...  \n",
       "23992  RT @POPSTAFFTWEETS: @LelianaSera @thatizsugoi ...  "
      ]
     },
     "execution_count": 8,
     "metadata": {},
     "output_type": "execute_result"
    }
   ],
   "source": [
    "df.sample(5)"
   ]
  },
  {
   "cell_type": "code",
   "execution_count": 9,
   "metadata": {},
   "outputs": [
    {
     "name": "stdout",
     "output_type": "stream",
     "text": [
      "<class 'pandas.core.frame.DataFrame'>\n",
      "RangeIndex: 26092 entries, 0 to 26091\n",
      "Data columns (total 3 columns):\n",
      "Place Country Code    632 non-null object\n",
      "Place Full Name       632 non-null object\n",
      "Tweet                 26092 non-null object\n",
      "dtypes: object(3)\n",
      "memory usage: 611.6+ KB\n"
     ]
    }
   ],
   "source": [
    "df.info()"
   ]
  },
  {
   "cell_type": "code",
   "execution_count": 10,
   "metadata": {},
   "outputs": [],
   "source": [
    "df[['City','state']] = df['Place Full Name'].str.split(',',n =1,expand=True)"
   ]
  },
  {
   "cell_type": "code",
   "execution_count": 11,
   "metadata": {},
   "outputs": [
    {
     "name": "stdout",
     "output_type": "stream",
     "text": [
      "<class 'pandas.core.frame.DataFrame'>\n",
      "RangeIndex: 26092 entries, 0 to 26091\n",
      "Data columns (total 5 columns):\n",
      "Place Country Code    632 non-null object\n",
      "Place Full Name       632 non-null object\n",
      "Tweet                 26092 non-null object\n",
      "City                  632 non-null object\n",
      "state                 626 non-null object\n",
      "dtypes: object(5)\n",
      "memory usage: 1019.3+ KB\n"
     ]
    }
   ],
   "source": [
    "df.info()"
   ]
  },
  {
   "cell_type": "code",
   "execution_count": 33,
   "metadata": {},
   "outputs": [
    {
     "data": {
      "text/html": [
       "<div>\n",
       "<style>\n",
       "    .dataframe thead tr:only-child th {\n",
       "        text-align: right;\n",
       "    }\n",
       "\n",
       "    .dataframe thead th {\n",
       "        text-align: left;\n",
       "    }\n",
       "\n",
       "    .dataframe tbody tr th {\n",
       "        vertical-align: top;\n",
       "    }\n",
       "</style>\n",
       "<table border=\"1\" class=\"dataframe\">\n",
       "  <thead>\n",
       "    <tr style=\"text-align: right;\">\n",
       "      <th></th>\n",
       "      <th>Place Country Code</th>\n",
       "      <th>Place Full Name</th>\n",
       "      <th>Tweet</th>\n",
       "      <th>City</th>\n",
       "      <th>state</th>\n",
       "    </tr>\n",
       "  </thead>\n",
       "  <tbody>\n",
       "    <tr>\n",
       "      <th>20541</th>\n",
       "      <td>NaN</td>\n",
       "      <td>NaN</td>\n",
       "      <td>RT @NetflixES: Los domingos y días festivos:\\n...</td>\n",
       "      <td>NaN</td>\n",
       "      <td>None</td>\n",
       "    </tr>\n",
       "    <tr>\n",
       "      <th>4426</th>\n",
       "      <td>NaN</td>\n",
       "      <td>NaN</td>\n",
       "      <td>One of the kid's parents is the killer and the...</td>\n",
       "      <td>NaN</td>\n",
       "      <td>None</td>\n",
       "    </tr>\n",
       "    <tr>\n",
       "      <th>2308</th>\n",
       "      <td>NaN</td>\n",
       "      <td>NaN</td>\n",
       "      <td>RT @KastroKefi: When I’m watching Netflix and ...</td>\n",
       "      <td>NaN</td>\n",
       "      <td>None</td>\n",
       "    </tr>\n",
       "    <tr>\n",
       "      <th>23833</th>\n",
       "      <td>NaN</td>\n",
       "      <td>NaN</td>\n",
       "      <td>Assista sem pagar filmes que não chegaram no N...</td>\n",
       "      <td>NaN</td>\n",
       "      <td>None</td>\n",
       "    </tr>\n",
       "    <tr>\n",
       "      <th>12447</th>\n",
       "      <td>NaN</td>\n",
       "      <td>NaN</td>\n",
       "      <td>RT @fahhpawa: @AsiaTitawat @RhyddidRx อันนี่เค...</td>\n",
       "      <td>NaN</td>\n",
       "      <td>None</td>\n",
       "    </tr>\n",
       "    <tr>\n",
       "      <th>8929</th>\n",
       "      <td>NaN</td>\n",
       "      <td>NaN</td>\n",
       "      <td>RT @NachoRgz: La razón por la que ni Televisa,...</td>\n",
       "      <td>NaN</td>\n",
       "      <td>None</td>\n",
       "    </tr>\n",
       "    <tr>\n",
       "      <th>2429</th>\n",
       "      <td>US</td>\n",
       "      <td>Roanoke, VA</td>\n",
       "      <td>I voted for #TeamHouseOfCards on @TheTylt–@Hou...</td>\n",
       "      <td>Roanoke</td>\n",
       "      <td>VA</td>\n",
       "    </tr>\n",
       "  </tbody>\n",
       "</table>\n",
       "</div>"
      ],
      "text/plain": [
       "      Place Country Code Place Full Name  \\\n",
       "20541                NaN             NaN   \n",
       "4426                 NaN             NaN   \n",
       "2308                 NaN             NaN   \n",
       "23833                NaN             NaN   \n",
       "12447                NaN             NaN   \n",
       "8929                 NaN             NaN   \n",
       "2429                  US     Roanoke, VA   \n",
       "\n",
       "                                                   Tweet     City state  \n",
       "20541  RT @NetflixES: Los domingos y días festivos:\\n...      NaN  None  \n",
       "4426   One of the kid's parents is the killer and the...      NaN  None  \n",
       "2308   RT @KastroKefi: When I’m watching Netflix and ...      NaN  None  \n",
       "23833  Assista sem pagar filmes que não chegaram no N...      NaN  None  \n",
       "12447  RT @fahhpawa: @AsiaTitawat @RhyddidRx อันนี่เค...      NaN  None  \n",
       "8929   RT @NachoRgz: La razón por la que ni Televisa,...      NaN  None  \n",
       "2429   I voted for #TeamHouseOfCards on @TheTylt–@Hou...  Roanoke    VA  "
      ]
     },
     "execution_count": 33,
     "metadata": {},
     "output_type": "execute_result"
    }
   ],
   "source": [
    "df.sample(7)"
   ]
  },
  {
   "cell_type": "code",
   "execution_count": 34,
   "metadata": {},
   "outputs": [],
   "source": [
    "df.drop('Place Full Name', axis = 1, inplace=True)"
   ]
  },
  {
   "cell_type": "code",
   "execution_count": 35,
   "metadata": {},
   "outputs": [],
   "source": [
    "df.columns = ['Country','Tweet','City','State']"
   ]
  },
  {
   "cell_type": "code",
   "execution_count": 36,
   "metadata": {},
   "outputs": [
    {
     "name": "stdout",
     "output_type": "stream",
     "text": [
      "<class 'pandas.core.frame.DataFrame'>\n",
      "RangeIndex: 26092 entries, 0 to 26091\n",
      "Data columns (total 4 columns):\n",
      "Country    632 non-null object\n",
      "Tweet      26092 non-null object\n",
      "City       632 non-null object\n",
      "State      626 non-null object\n",
      "dtypes: object(4)\n",
      "memory usage: 815.5+ KB\n"
     ]
    }
   ],
   "source": [
    "df.info()"
   ]
  },
  {
   "cell_type": "markdown",
   "metadata": {},
   "source": [
    "## Cleaning the tweets to remove\n",
    "1. URL links\n",
    "2. HTML tags\n",
    "3. Numbers\n",
    "4. Hashtags and Mentions(@)\n",
    "5. Emoticons\n",
    "6. Tokenization\n",
    "7. Lemmatization\n",
    "8. Removal of stopwords"
   ]
  },
  {
   "cell_type": "code",
   "execution_count": 37,
   "metadata": {
    "collapsed": true
   },
   "outputs": [],
   "source": [
    "import re\n",
    "import csv\n",
    "from textblob import TextBlob\n",
    "from bs4 import BeautifulSoup\n",
    "from tweepy import OAuthHandler\n",
    "import pandas as pd\n",
    "import warnings\n",
    "warnings.filterwarnings(\"ignore\")"
   ]
  },
  {
   "cell_type": "code",
   "execution_count": 38,
   "metadata": {},
   "outputs": [
    {
     "name": "stdout",
     "output_type": "stream",
     "text": [
      "[nltk_data] Downloading package stopwords to C:\\Users\\sadhana\n",
      "[nltk_data]     reddy\\AppData\\Roaming\\nltk_data...\n",
      "[nltk_data]   Package stopwords is already up-to-date!\n"
     ]
    }
   ],
   "source": [
    "import nltk\n",
    "nltk.download('stopwords')\n",
    "from nltk.corpus import stopwords\n",
    "from nltk.tokenize import word_tokenize\n",
    "from nltk.stem.wordnet import WordNetLemmatizer "
   ]
  },
  {
   "cell_type": "code",
   "execution_count": 39,
   "metadata": {
    "collapsed": true
   },
   "outputs": [],
   "source": [
    "from nltk.tokenize import WordPunctTokenizer\n",
    "tok = WordPunctTokenizer()"
   ]
  },
  {
   "cell_type": "code",
   "execution_count": 40,
   "metadata": {
    "collapsed": true
   },
   "outputs": [],
   "source": [
    "pat1 = r'@[A-Za-z0-9]+'\n",
    "pat2 = r'https?://[A-Za-z0-9./]+'\n",
    "combined_pat = r'|'.join((pat1, pat2))\n",
    "\n",
    "def tweet_cleaner(text):\n",
    "    soup = BeautifulSoup(text, 'lxml')\n",
    "    souped = soup.get_text()\n",
    "    stripped = re.sub(combined_pat, '', souped)\n",
    "    try:\n",
    "        clean = stripped.decode(\"utf-8-sig\").replace(u\"\\ufffd\", \"?\")\n",
    "    except:\n",
    "        clean = stripped\n",
    "    letters_only = re.sub(\"[^a-zA-Z]\", \" \", clean)# creates unnecessary white spaces\n",
    "    lower_case = letters_only.lower()\n",
    "    words = tok.tokenize(lower_case) #tokenize and join together to remove unneccessary white spaces\n",
    "    \n",
    "\n",
    "# Tokenization, Lemmatization and removal of stopwords\n",
    "    data = word_tokenize(words)\n",
    "    lem = WordNetLemmatizer()\n",
    "    data = [lem.lemmatize(word) for word in data if not word in set(stopwords.words('english'))]\n",
    "    return (\" \".join(words)).strip()"
   ]
  },
  {
   "cell_type": "code",
   "execution_count": 41,
   "metadata": {},
   "outputs": [
    {
     "data": {
      "text/plain": [
       "['giveaway fortnite account x netflix premium x giveaway tag x winners bro rt follow pm est may nd good luck have fun',\n",
       " 'giveaway fortnite account x netflix premium x giveaway tag x winners bro rt follow pm est may nd good luck have fun',\n",
       " 'giveaway fortnite account x netflix premium x giveaway tag x winners bro rt follow pm est may nd good luck have fun',\n",
       " 'giveaway fortnite account x netflix premium x giveaway tag x winners bro rt follow pm est may nd good luck have fun',\n",
       " 'rt fav y participas por x netflix premium x uplays requisitos visitan mi selly activa las notificaciones tagea a un amigo sigue a pvp end minutos favs',\n",
       " 'rt fav y participas por x netflix premium x uplays requisitos visitan mi selly activa las notificaciones tagea a un amigo sigue a pvp end minutos favs',\n",
       " 'our trip to the set of w comes to an end this week but first we stop by for a chat w and sarahwaynecallies ahead of s on network catch up w colony s episodes now streaming on netflix ad',\n",
       " 'has a netflix series beginning in may time to boycott',\n",
       " 'has a netflix series beginning in may time to boycott',\n",
       " 'sherules women in engineering event for highschool girls at netflix cuhsd']"
      ]
     },
     "execution_count": 41,
     "metadata": {},
     "output_type": "execute_result"
    }
   ],
   "source": [
    "testing = df.Tweet[:10]\n",
    "test_result = []\n",
    "for t in testing:\n",
    "    test_result.append(tweet_cleaner(t))\n",
    "test_result"
   ]
  },
  {
   "cell_type": "code",
   "execution_count": 42,
   "metadata": {},
   "outputs": [
    {
     "name": "stdout",
     "output_type": "stream",
     "text": [
      "Cleaning and parsing the tweets...\n",
      "\n",
      "Wall time: 6.97 s\n"
     ]
    }
   ],
   "source": [
    "%%time\n",
    "print(\"Cleaning and parsing the tweets...\\n\")\n",
    "clean_tweet = []\n",
    "for i in range(0,len(df.Tweet)):                                                                   \n",
    "    clean_tweet.append(tweet_cleaner(df['Tweet'][i]))"
   ]
  },
  {
   "cell_type": "code",
   "execution_count": 43,
   "metadata": {
    "collapsed": true
   },
   "outputs": [],
   "source": [
    "clean_df = pd.DataFrame(clean_tweet,columns=['cleaned_tweet'])"
   ]
  },
  {
   "cell_type": "code",
   "execution_count": 44,
   "metadata": {},
   "outputs": [],
   "source": [
    "df_clean = pd.concat([df,clean_df], axis = 1, ignore_index = True)"
   ]
  },
  {
   "cell_type": "code",
   "execution_count": 46,
   "metadata": {},
   "outputs": [
    {
     "data": {
      "text/html": [
       "<div>\n",
       "<style>\n",
       "    .dataframe thead tr:only-child th {\n",
       "        text-align: right;\n",
       "    }\n",
       "\n",
       "    .dataframe thead th {\n",
       "        text-align: left;\n",
       "    }\n",
       "\n",
       "    .dataframe tbody tr th {\n",
       "        vertical-align: top;\n",
       "    }\n",
       "</style>\n",
       "<table border=\"1\" class=\"dataframe\">\n",
       "  <thead>\n",
       "    <tr style=\"text-align: right;\">\n",
       "      <th></th>\n",
       "      <th>Country</th>\n",
       "      <th>Tweet</th>\n",
       "      <th>City</th>\n",
       "      <th>State</th>\n",
       "    </tr>\n",
       "  </thead>\n",
       "  <tbody>\n",
       "    <tr>\n",
       "      <th>0</th>\n",
       "      <td>NaN</td>\n",
       "      <td>✅ #GIVEAWAY ✅\\n\\n↪️ Fortnite Account x3\\n\\n↪️ ...</td>\n",
       "      <td>NaN</td>\n",
       "      <td>None</td>\n",
       "    </tr>\n",
       "    <tr>\n",
       "      <th>1</th>\n",
       "      <td>NaN</td>\n",
       "      <td>✅ #GIVEAWAY ✅\\n\\n↪️ Fortnite Account x3\\n\\n↪️ ...</td>\n",
       "      <td>NaN</td>\n",
       "      <td>None</td>\n",
       "    </tr>\n",
       "    <tr>\n",
       "      <th>2</th>\n",
       "      <td>NaN</td>\n",
       "      <td>✅ #GIVEAWAY ✅\\n\\n↪️ Fortnite Account x3\\n\\n↪️ ...</td>\n",
       "      <td>NaN</td>\n",
       "      <td>None</td>\n",
       "    </tr>\n",
       "    <tr>\n",
       "      <th>3</th>\n",
       "      <td>NaN</td>\n",
       "      <td>✅ #GIVEAWAY ✅\\n\\n↪️ Fortnite Account x3\\n\\n↪️ ...</td>\n",
       "      <td>NaN</td>\n",
       "      <td>None</td>\n",
       "    </tr>\n",
       "    <tr>\n",
       "      <th>4</th>\n",
       "      <td>NaN</td>\n",
       "      <td>RT &amp;amp; FAV y participas por\\n\\n- 2x NETFLIX ...</td>\n",
       "      <td>NaN</td>\n",
       "      <td>None</td>\n",
       "    </tr>\n",
       "  </tbody>\n",
       "</table>\n",
       "</div>"
      ],
      "text/plain": [
       "  Country                                              Tweet City State\n",
       "0     NaN  ✅ #GIVEAWAY ✅\\n\\n↪️ Fortnite Account x3\\n\\n↪️ ...  NaN  None\n",
       "1     NaN  ✅ #GIVEAWAY ✅\\n\\n↪️ Fortnite Account x3\\n\\n↪️ ...  NaN  None\n",
       "2     NaN  ✅ #GIVEAWAY ✅\\n\\n↪️ Fortnite Account x3\\n\\n↪️ ...  NaN  None\n",
       "3     NaN  ✅ #GIVEAWAY ✅\\n\\n↪️ Fortnite Account x3\\n\\n↪️ ...  NaN  None\n",
       "4     NaN  RT &amp; FAV y participas por\\n\\n- 2x NETFLIX ...  NaN  None"
      ]
     },
     "execution_count": 46,
     "metadata": {},
     "output_type": "execute_result"
    }
   ],
   "source": [
    "df.head()"
   ]
  },
  {
   "cell_type": "code",
   "execution_count": 47,
   "metadata": {},
   "outputs": [],
   "source": [
    "df_clean.columns = ['Country','Tweet','City','State','Clean_tweet']"
   ]
  },
  {
   "cell_type": "code",
   "execution_count": 48,
   "metadata": {},
   "outputs": [
    {
     "data": {
      "text/html": [
       "<div>\n",
       "<style>\n",
       "    .dataframe thead tr:only-child th {\n",
       "        text-align: right;\n",
       "    }\n",
       "\n",
       "    .dataframe thead th {\n",
       "        text-align: left;\n",
       "    }\n",
       "\n",
       "    .dataframe tbody tr th {\n",
       "        vertical-align: top;\n",
       "    }\n",
       "</style>\n",
       "<table border=\"1\" class=\"dataframe\">\n",
       "  <thead>\n",
       "    <tr style=\"text-align: right;\">\n",
       "      <th></th>\n",
       "      <th>Country</th>\n",
       "      <th>Tweet</th>\n",
       "      <th>City</th>\n",
       "      <th>State</th>\n",
       "      <th>Clean_tweet</th>\n",
       "    </tr>\n",
       "  </thead>\n",
       "  <tbody>\n",
       "    <tr>\n",
       "      <th>536</th>\n",
       "      <td>NaN</td>\n",
       "      <td>really wish I had netflix</td>\n",
       "      <td>NaN</td>\n",
       "      <td>None</td>\n",
       "      <td>really wish i had netflix</td>\n",
       "    </tr>\n",
       "    <tr>\n",
       "      <th>2871</th>\n",
       "      <td>NaN</td>\n",
       "      <td>@netflix  If you continue with @michelleisawol...</td>\n",
       "      <td>NaN</td>\n",
       "      <td>None</td>\n",
       "      <td>if you continue with i will cancel my subscrip...</td>\n",
       "    </tr>\n",
       "    <tr>\n",
       "      <th>2993</th>\n",
       "      <td>NaN</td>\n",
       "      <td>RT @FastCoDesign: Inside the design processes ...</td>\n",
       "      <td>NaN</td>\n",
       "      <td>None</td>\n",
       "      <td>rt inside the design processes at and more</td>\n",
       "    </tr>\n",
       "    <tr>\n",
       "      <th>5146</th>\n",
       "      <td>NaN</td>\n",
       "      <td>RT @camoew_: netflix vous avez une place dans ...</td>\n",
       "      <td>NaN</td>\n",
       "      <td>None</td>\n",
       "      <td>rt netflix vous avez une place dans mon c ur</td>\n",
       "    </tr>\n",
       "    <tr>\n",
       "      <th>13997</th>\n",
       "      <td>NaN</td>\n",
       "      <td>RT @WanderlustMayo: Y’all guys played all the ...</td>\n",
       "      <td>NaN</td>\n",
       "      <td>None</td>\n",
       "      <td>rt y all guys played all the good girls now al...</td>\n",
       "    </tr>\n",
       "  </tbody>\n",
       "</table>\n",
       "</div>"
      ],
      "text/plain": [
       "      Country                                              Tweet City State  \\\n",
       "536       NaN                          really wish I had netflix  NaN  None   \n",
       "2871      NaN  @netflix  If you continue with @michelleisawol...  NaN  None   \n",
       "2993      NaN  RT @FastCoDesign: Inside the design processes ...  NaN  None   \n",
       "5146      NaN  RT @camoew_: netflix vous avez une place dans ...  NaN  None   \n",
       "13997     NaN  RT @WanderlustMayo: Y’all guys played all the ...  NaN  None   \n",
       "\n",
       "                                             Clean_tweet  \n",
       "536                            really wish i had netflix  \n",
       "2871   if you continue with i will cancel my subscrip...  \n",
       "2993          rt inside the design processes at and more  \n",
       "5146        rt netflix vous avez une place dans mon c ur  \n",
       "13997  rt y all guys played all the good girls now al...  "
      ]
     },
     "execution_count": 48,
     "metadata": {},
     "output_type": "execute_result"
    }
   ],
   "source": [
    "df_clean.sample(5)"
   ]
  },
  {
   "cell_type": "markdown",
   "metadata": {},
   "source": [
    "## Performing Sentiment Analysis using Text Blob"
   ]
  },
  {
   "cell_type": "code",
   "execution_count": 50,
   "metadata": {},
   "outputs": [],
   "source": [
    "for i in range(0,len(df_clean)):\n",
    "    blob = TextBlob(df_clean.loc[i,\"Clean_tweet\"])\n",
    "    df_clean.loc[i,'polarity'] = blob.sentiment.polarity"
   ]
  },
  {
   "cell_type": "code",
   "execution_count": 51,
   "metadata": {},
   "outputs": [
    {
     "data": {
      "text/html": [
       "<div>\n",
       "<style>\n",
       "    .dataframe thead tr:only-child th {\n",
       "        text-align: right;\n",
       "    }\n",
       "\n",
       "    .dataframe thead th {\n",
       "        text-align: left;\n",
       "    }\n",
       "\n",
       "    .dataframe tbody tr th {\n",
       "        vertical-align: top;\n",
       "    }\n",
       "</style>\n",
       "<table border=\"1\" class=\"dataframe\">\n",
       "  <thead>\n",
       "    <tr style=\"text-align: right;\">\n",
       "      <th></th>\n",
       "      <th>Country</th>\n",
       "      <th>Tweet</th>\n",
       "      <th>City</th>\n",
       "      <th>State</th>\n",
       "      <th>Clean_tweet</th>\n",
       "      <th>polarity</th>\n",
       "    </tr>\n",
       "  </thead>\n",
       "  <tbody>\n",
       "    <tr>\n",
       "      <th>3748</th>\n",
       "      <td>NaN</td>\n",
       "      <td>RT @aggretsuko: Need to distract someone? Just...</td>\n",
       "      <td>NaN</td>\n",
       "      <td>None</td>\n",
       "      <td>rt need to distract someone just do the weird ...</td>\n",
       "      <td>-0.5</td>\n",
       "    </tr>\n",
       "    <tr>\n",
       "      <th>2901</th>\n",
       "      <td>NaN</td>\n",
       "      <td>Post Malone has an amazing performance at the ...</td>\n",
       "      <td>NaN</td>\n",
       "      <td>None</td>\n",
       "      <td>post malone has an amazing performance at the ...</td>\n",
       "      <td>0.4</td>\n",
       "    </tr>\n",
       "    <tr>\n",
       "      <th>13395</th>\n",
       "      <td>NaN</td>\n",
       "      <td>RT @WesleyKrid: quand le soleil est plus la, n...</td>\n",
       "      <td>NaN</td>\n",
       "      <td>None</td>\n",
       "      <td>rt quand le soleil est plus la netflix est pr ...</td>\n",
       "      <td>0.0</td>\n",
       "    </tr>\n",
       "    <tr>\n",
       "      <th>2914</th>\n",
       "      <td>NaN</td>\n",
       "      <td>RT @LevatoTomy: Un día sos joven y al otro no ...</td>\n",
       "      <td>NaN</td>\n",
       "      <td>None</td>\n",
       "      <td>rt un d a sos joven y al otro no tenes ganas d...</td>\n",
       "      <td>0.0</td>\n",
       "    </tr>\n",
       "    <tr>\n",
       "      <th>3253</th>\n",
       "      <td>NaN</td>\n",
       "      <td>RT @TupacShakurLC: This show needs to get back...</td>\n",
       "      <td>NaN</td>\n",
       "      <td>None</td>\n",
       "      <td>rt this show needs to get back on netflix</td>\n",
       "      <td>0.0</td>\n",
       "    </tr>\n",
       "  </tbody>\n",
       "</table>\n",
       "</div>"
      ],
      "text/plain": [
       "      Country                                              Tweet City State  \\\n",
       "3748      NaN  RT @aggretsuko: Need to distract someone? Just...  NaN  None   \n",
       "2901      NaN  Post Malone has an amazing performance at the ...  NaN  None   \n",
       "13395     NaN  RT @WesleyKrid: quand le soleil est plus la, n...  NaN  None   \n",
       "2914      NaN  RT @LevatoTomy: Un día sos joven y al otro no ...  NaN  None   \n",
       "3253      NaN  RT @TupacShakurLC: This show needs to get back...  NaN  None   \n",
       "\n",
       "                                             Clean_tweet  polarity  \n",
       "3748   rt need to distract someone just do the weird ...      -0.5  \n",
       "2901   post malone has an amazing performance at the ...       0.4  \n",
       "13395  rt quand le soleil est plus la netflix est pr ...       0.0  \n",
       "2914   rt un d a sos joven y al otro no tenes ganas d...       0.0  \n",
       "3253           rt this show needs to get back on netflix       0.0  "
      ]
     },
     "execution_count": 51,
     "metadata": {},
     "output_type": "execute_result"
    }
   ],
   "source": [
    "df_clean.sample(5)"
   ]
  },
  {
   "cell_type": "code",
   "execution_count": 52,
   "metadata": {
    "collapsed": true
   },
   "outputs": [],
   "source": [
    "for i in range(0,len(df_clean)):\n",
    "    if(df_clean.loc[i,\"polarity\"] > 0) :\n",
    "        df_clean.loc[i,'sentiment'] = 1\n",
    "    else:\n",
    "        if(df_clean.loc[i,\"polarity\"] < 0):\n",
    "            df_clean.loc[i,'sentiment'] = -1\n",
    "        else:\n",
    "            df_clean.loc[i,'sentiment'] = 0"
   ]
  },
  {
   "cell_type": "code",
   "execution_count": 53,
   "metadata": {},
   "outputs": [
    {
     "data": {
      "text/html": [
       "<div>\n",
       "<style>\n",
       "    .dataframe thead tr:only-child th {\n",
       "        text-align: right;\n",
       "    }\n",
       "\n",
       "    .dataframe thead th {\n",
       "        text-align: left;\n",
       "    }\n",
       "\n",
       "    .dataframe tbody tr th {\n",
       "        vertical-align: top;\n",
       "    }\n",
       "</style>\n",
       "<table border=\"1\" class=\"dataframe\">\n",
       "  <thead>\n",
       "    <tr style=\"text-align: right;\">\n",
       "      <th></th>\n",
       "      <th>Country</th>\n",
       "      <th>Tweet</th>\n",
       "      <th>City</th>\n",
       "      <th>State</th>\n",
       "      <th>Clean_tweet</th>\n",
       "      <th>polarity</th>\n",
       "      <th>sentiment</th>\n",
       "    </tr>\n",
       "  </thead>\n",
       "  <tbody>\n",
       "    <tr>\n",
       "      <th>22189</th>\n",
       "      <td>NaN</td>\n",
       "      <td>@CodComrade lots! Princess Cyd, Dope, and Caro...</td>\n",
       "      <td>NaN</td>\n",
       "      <td>None</td>\n",
       "      <td>lots princess cyd dope and carol are all great...</td>\n",
       "      <td>0.153125</td>\n",
       "      <td>1.0</td>\n",
       "    </tr>\n",
       "    <tr>\n",
       "      <th>3791</th>\n",
       "      <td>NaN</td>\n",
       "      <td>RT @sancipio: Finished binged watching Agressi...</td>\n",
       "      <td>NaN</td>\n",
       "      <td>None</td>\n",
       "      <td>rt finished binged watching agressive retsuko ...</td>\n",
       "      <td>0.400000</td>\n",
       "      <td>1.0</td>\n",
       "    </tr>\n",
       "    <tr>\n",
       "      <th>1546</th>\n",
       "      <td>NaN</td>\n",
       "      <td>Quiero Netflix 😭</td>\n",
       "      <td>NaN</td>\n",
       "      <td>None</td>\n",
       "      <td>quiero netflix</td>\n",
       "      <td>0.000000</td>\n",
       "      <td>0.0</td>\n",
       "    </tr>\n",
       "    <tr>\n",
       "      <th>2582</th>\n",
       "      <td>NaN</td>\n",
       "      <td>RT @magalitajes: ¿Pueden ver \"No soy un hombre...</td>\n",
       "      <td>NaN</td>\n",
       "      <td>None</td>\n",
       "      <td>rt pueden ver no soy un hombre f cil en netflix</td>\n",
       "      <td>0.000000</td>\n",
       "      <td>0.0</td>\n",
       "    </tr>\n",
       "    <tr>\n",
       "      <th>21236</th>\n",
       "      <td>NaN</td>\n",
       "      <td>Netflix is launching a weekly BuzzFeed show in...</td>\n",
       "      <td>NaN</td>\n",
       "      <td>None</td>\n",
       "      <td>netflix is launching a weekly buzzfeed show in...</td>\n",
       "      <td>0.000000</td>\n",
       "      <td>0.0</td>\n",
       "    </tr>\n",
       "  </tbody>\n",
       "</table>\n",
       "</div>"
      ],
      "text/plain": [
       "      Country                                              Tweet City State  \\\n",
       "22189     NaN  @CodComrade lots! Princess Cyd, Dope, and Caro...  NaN  None   \n",
       "3791      NaN  RT @sancipio: Finished binged watching Agressi...  NaN  None   \n",
       "1546      NaN                                   Quiero Netflix 😭  NaN  None   \n",
       "2582      NaN  RT @magalitajes: ¿Pueden ver \"No soy un hombre...  NaN  None   \n",
       "21236     NaN  Netflix is launching a weekly BuzzFeed show in...  NaN  None   \n",
       "\n",
       "                                             Clean_tweet  polarity  sentiment  \n",
       "22189  lots princess cyd dope and carol are all great...  0.153125        1.0  \n",
       "3791   rt finished binged watching agressive retsuko ...  0.400000        1.0  \n",
       "1546                                      quiero netflix  0.000000        0.0  \n",
       "2582     rt pueden ver no soy un hombre f cil en netflix  0.000000        0.0  \n",
       "21236  netflix is launching a weekly buzzfeed show in...  0.000000        0.0  "
      ]
     },
     "execution_count": 53,
     "metadata": {},
     "output_type": "execute_result"
    }
   ],
   "source": [
    "df_clean.sample(5)"
   ]
  },
  {
   "cell_type": "code",
   "execution_count": 84,
   "metadata": {},
   "outputs": [],
   "source": [
    "df_clean.to_csv('netflixsenti.csv',sep = ',',index=False,encoding='utf-8')"
   ]
  },
  {
   "cell_type": "markdown",
   "metadata": {},
   "source": [
    "## Sentiment Analysis by Country"
   ]
  },
  {
   "cell_type": "code",
   "execution_count": 54,
   "metadata": {},
   "outputs": [
    {
     "data": {
      "text/plain": [
       "Country           41\n",
       "Tweet          10650\n",
       "City             322\n",
       "State             96\n",
       "Clean_tweet    10041\n",
       "polarity         825\n",
       "sentiment          3\n",
       "dtype: int64"
      ]
     },
     "execution_count": 54,
     "metadata": {},
     "output_type": "execute_result"
    }
   ],
   "source": [
    "df_clean.nunique()"
   ]
  },
  {
   "cell_type": "code",
   "execution_count": 55,
   "metadata": {},
   "outputs": [],
   "source": [
    "country_senti = df_clean.groupby(['Country'])['sentiment'].mean()\n",
    "country_pol = df_clean.groupby(['Country'])['polarity'].mean()"
   ]
  },
  {
   "cell_type": "code",
   "execution_count": 66,
   "metadata": {},
   "outputs": [
    {
     "data": {
      "text/plain": [
       "Country\n",
       "TH    0.000000\n",
       "NL    0.166667\n",
       "CA    0.333333\n",
       "BE    0.000000\n",
       "EC    0.000000\n",
       "Name: sentiment, dtype: float64"
      ]
     },
     "execution_count": 66,
     "metadata": {},
     "output_type": "execute_result"
    }
   ],
   "source": [
    "country_senti.sample(5)"
   ]
  },
  {
   "cell_type": "code",
   "execution_count": 67,
   "metadata": {},
   "outputs": [
    {
     "data": {
      "text/plain": [
       "Country\n",
       "PH    0.107292\n",
       "NI    0.000000\n",
       "AR    0.021951\n",
       "ZA    0.216667\n",
       "NL    0.054514\n",
       "Name: polarity, dtype: float64"
      ]
     },
     "execution_count": 67,
     "metadata": {},
     "output_type": "execute_result"
    }
   ],
   "source": [
    "country_pol.sample(5)"
   ]
  },
  {
   "cell_type": "markdown",
   "metadata": {},
   "source": [
    "## Finding percentage of negative vs positive tweets"
   ]
  },
  {
   "cell_type": "code",
   "execution_count": 76,
   "metadata": {},
   "outputs": [],
   "source": [
    "pos_tweets = [ tweet for index, tweet in enumerate(df_clean['Clean_tweet'][df_clean['sentiment'] == 1])]\n",
    "neu_tweets = [ tweet for index, tweet in enumerate(df_clean['Clean_tweet'][df_clean['sentiment'] == -1])]\n",
    "neg_tweets = [ tweet for index, tweet in enumerate(df_clean['Clean_tweet'][df_clean['sentiment'] == 0])]"
   ]
  },
  {
   "cell_type": "code",
   "execution_count": 77,
   "metadata": {},
   "outputs": [
    {
     "name": "stdout",
     "output_type": "stream",
     "text": [
      "Percentage of positive tweets: 23.97286524605243%\n",
      "Percentage of neutral tweets: 9.037252797792426%\n",
      "Percentage of negative tweets: 66.98988195615514%\n"
     ]
    }
   ],
   "source": [
    "print(\"Percentage of positive tweets: {}%\".format(len(pos_tweets)*100/len(df_clean['Clean_tweet'])))\n",
    "print(\"Percentage of neutral tweets: {}%\".format(len(neu_tweets)*100/len(df_clean['Clean_tweet'])))\n",
    "print(\"Percentage of negative tweets: {}%\".format(len(neg_tweets)*100/len(df_clean['Clean_tweet'])))"
   ]
  },
  {
   "cell_type": "markdown",
   "metadata": {},
   "source": [
    "## Sentiment Analysis for States in USA"
   ]
  },
  {
   "cell_type": "code",
   "execution_count": 69,
   "metadata": {
    "collapsed": true
   },
   "outputs": [],
   "source": [
    "df_state = df_clean[df_clean.Country == 'US']"
   ]
  },
  {
   "cell_type": "code",
   "execution_count": 70,
   "metadata": {},
   "outputs": [
    {
     "data": {
      "text/plain": [
       "(365, 7)"
      ]
     },
     "execution_count": 70,
     "metadata": {},
     "output_type": "execute_result"
    }
   ],
   "source": [
    "df_state.shape"
   ]
  },
  {
   "cell_type": "code",
   "execution_count": 71,
   "metadata": {},
   "outputs": [
    {
     "data": {
      "text/plain": [
       "Country          1\n",
       "Tweet          175\n",
       "City           140\n",
       "State           36\n",
       "Clean_tweet    171\n",
       "polarity        78\n",
       "sentiment        3\n",
       "dtype: int64"
      ]
     },
     "execution_count": 71,
     "metadata": {},
     "output_type": "execute_result"
    }
   ],
   "source": [
    "df_state.nunique()"
   ]
  },
  {
   "cell_type": "code",
   "execution_count": 72,
   "metadata": {},
   "outputs": [],
   "source": [
    "State_senti = df_state.groupby(['State'])['sentiment'].mean()\n",
    "State_pol = df_state.groupby(['State'])['polarity'].mean()"
   ]
  },
  {
   "cell_type": "code",
   "execution_count": 73,
   "metadata": {},
   "outputs": [
    {
     "data": {
      "text/plain": [
       "State\n",
       " MD     0.071429\n",
       " CO     1.000000\n",
       " FL    -0.089744\n",
       " USA    0.558140\n",
       " NV     0.000000\n",
       "Name: sentiment, dtype: float64"
      ]
     },
     "execution_count": 73,
     "metadata": {},
     "output_type": "execute_result"
    }
   ],
   "source": [
    "State_senti.sample(5)"
   ]
  },
  {
   "cell_type": "code",
   "execution_count": 74,
   "metadata": {},
   "outputs": [
    {
     "data": {
      "text/plain": [
       "State\n",
       " AK    0.000000\n",
       " IA    0.250000\n",
       " OR    0.100000\n",
       " OK    0.245455\n",
       " MN    0.216667\n",
       "Name: polarity, dtype: float64"
      ]
     },
     "execution_count": 74,
     "metadata": {},
     "output_type": "execute_result"
    }
   ],
   "source": [
    "State_pol.sample(5)"
   ]
  },
  {
   "cell_type": "code",
   "execution_count": 78,
   "metadata": {
    "collapsed": true
   },
   "outputs": [],
   "source": [
    "pos_tweets = [ tweet for index, tweet in enumerate(df_state['Clean_tweet'][df_state['sentiment'] == 1])]\n",
    "neu_tweets = [ tweet for index, tweet in enumerate(df_state['Clean_tweet'][df_state['sentiment'] == -1])]\n",
    "neg_tweets = [ tweet for index, tweet in enumerate(df_state['Clean_tweet'][df_state['sentiment'] == 0])]"
   ]
  },
  {
   "cell_type": "code",
   "execution_count": 79,
   "metadata": {},
   "outputs": [
    {
     "name": "stdout",
     "output_type": "stream",
     "text": [
      "Percentage of positive tweets within US: 44.657534246575345%\n",
      "Percentage of neutral tweets within US: 12.32876712328767%\n",
      "Percentage of negative tweets within US: 43.013698630136986%\n"
     ]
    }
   ],
   "source": [
    "print(\"Percentage of positive tweets within US: {}%\".format(len(pos_tweets)*100/len(df_state['Clean_tweet'])))\n",
    "print(\"Percentage of neutral tweets within US: {}%\".format(len(neu_tweets)*100/len(df_state['Clean_tweet'])))\n",
    "print(\"Percentage of negative tweets within US: {}%\".format(len(neg_tweets)*100/len(df_state['Clean_tweet'])))"
   ]
  },
  {
   "cell_type": "code",
   "execution_count": 80,
   "metadata": {},
   "outputs": [
    {
     "data": {
      "text/plain": [
       "'C:\\\\Users\\\\sadhana reddy\\\\Desktop'"
      ]
     },
     "execution_count": 80,
     "metadata": {},
     "output_type": "execute_result"
    }
   ],
   "source": [
    "import os\n",
    "os.getcwd()"
   ]
  },
  {
   "cell_type": "code",
   "execution_count": null,
   "metadata": {
    "collapsed": true
   },
   "outputs": [],
   "source": []
  }
 ],
 "metadata": {
  "kernelspec": {
   "display_name": "Python 3",
   "language": "python",
   "name": "python3"
  },
  "language_info": {
   "codemirror_mode": {
    "name": "ipython",
    "version": 3
   },
   "file_extension": ".py",
   "mimetype": "text/x-python",
   "name": "python",
   "nbconvert_exporter": "python",
   "pygments_lexer": "ipython3",
   "version": "3.6.5"
  }
 },
 "nbformat": 4,
 "nbformat_minor": 2
}
